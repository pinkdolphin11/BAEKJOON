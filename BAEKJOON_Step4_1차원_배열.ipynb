{
  "nbformat": 4,
  "nbformat_minor": 0,
  "metadata": {
    "colab": {
      "provenance": [],
      "authorship_tag": "ABX9TyMquqaAIZp/dbHoe0PQ4YkV",
      "include_colab_link": true
    },
    "kernelspec": {
      "name": "python3",
      "display_name": "Python 3"
    },
    "language_info": {
      "name": "python"
    }
  },
  "cells": [
    {
      "cell_type": "markdown",
      "metadata": {
        "id": "view-in-github",
        "colab_type": "text"
      },
      "source": [
        "<a href=\"https://colab.research.google.com/github/pinkdolphin11/BAEKJOON/blob/main/BAEKJOON_Step4_1%EC%B0%A8%EC%9B%90_%EB%B0%B0%EC%97%B4.ipynb\" target=\"_parent\"><img src=\"https://colab.research.google.com/assets/colab-badge.svg\" alt=\"Open In Colab\"/></a>"
      ]
    },
    {
      "cell_type": "markdown",
      "source": [
        "## 1"
      ],
      "metadata": {
        "id": "cC3NwJI8fJ48"
      }
    },
    {
      "cell_type": "code",
      "execution_count": 5,
      "metadata": {
        "colab": {
          "base_uri": "https://localhost:8080/"
        },
        "id": "PKUBKUFzfF6B",
        "outputId": "ef4952f5-2101-45e7-ff8f-54aa4c5002b1"
      },
      "outputs": [
        {
          "output_type": "stream",
          "name": "stdout",
          "text": [
            "11\n",
            "1 4 1 2 4 2 4 2 3 4 4\n",
            "2\n",
            "3\n"
          ]
        }
      ],
      "source": [
        "N = int(input())\n",
        "a = list(map(int,input().split()))\n",
        "v = int(input())\n",
        "\n",
        "b = []\n",
        "for i in range(N):\n",
        "  if v==a[i]:\n",
        "    b.append(a[i])\n",
        "print(len(b))"
      ]
    },
    {
      "cell_type": "markdown",
      "source": [
        "* list(map()) 형태로 입력값을 리스트로 받기"
      ],
      "metadata": {
        "id": "2IA6mMFeh8GF"
      }
    },
    {
      "cell_type": "markdown",
      "source": [
        "## 2"
      ],
      "metadata": {
        "id": "oTPmeKwoiBgf"
      }
    },
    {
      "cell_type": "code",
      "source": [
        "N,X = map(int,input().split())\n",
        "A = list(map(int,input().split()))\n",
        "\n",
        "for i in range(N):\n",
        "  if A[i]<X:\n",
        "    print(A[i],end=' ')"
      ],
      "metadata": {
        "colab": {
          "base_uri": "https://localhost:8080/"
        },
        "id": "4KUAm-3CiMsV",
        "outputId": "d0f9f4e9-b5a8-4051-f844-fe34b65f1c4b"
      },
      "execution_count": 8,
      "outputs": [
        {
          "output_type": "stream",
          "name": "stdout",
          "text": [
            "10 5\n",
            "1 10 4 9 2 3 8 5 7 6\n",
            "1 4 2 3 "
          ]
        }
      ]
    },
    {
      "cell_type": "markdown",
      "source": [
        "* 조건에 맞는 A[i]를 바로 출력(end=' ' : 공백으로 구분)"
      ],
      "metadata": {
        "id": "LtGZtTH9ja9D"
      }
    },
    {
      "cell_type": "markdown",
      "source": [
        "## 3"
      ],
      "metadata": {
        "id": "tHeM7coljkys"
      }
    },
    {
      "cell_type": "code",
      "source": [
        "N = int(input())\n",
        "A = list(map(int,input().split()))\n",
        "\n",
        "print(min(A),max(A))"
      ],
      "metadata": {
        "colab": {
          "base_uri": "https://localhost:8080/"
        },
        "id": "zwZvNVlSnw_s",
        "outputId": "877e9fdc-547c-4b51-8dfc-b2c0fbdf30ad"
      },
      "execution_count": 3,
      "outputs": [
        {
          "output_type": "stream",
          "name": "stdout",
          "text": [
            "5\n",
            "20 10 35 30 7\n",
            "7 35\n"
          ]
        }
      ]
    },
    {
      "cell_type": "markdown",
      "source": [
        "## 4"
      ],
      "metadata": {
        "id": "S66ViLQkk1DN"
      }
    },
    {
      "cell_type": "code",
      "source": [
        "N = []\n",
        "for i in range(9):\n",
        "  n = int(input())\n",
        "  N.append(n)\n",
        "\n",
        "print(max(N))\n",
        "print(N.index(max(N))+1)"
      ],
      "metadata": {
        "colab": {
          "base_uri": "https://localhost:8080/"
        },
        "id": "VFTmOsOXk2Pg",
        "outputId": "e18f62e9-205b-47ec-9b9e-670612f33b8a"
      },
      "execution_count": 2,
      "outputs": [
        {
          "output_type": "stream",
          "name": "stdout",
          "text": [
            "3\n",
            "29\n",
            "38\n",
            "12\n",
            "57\n",
            "74\n",
            "50\n",
            "85\n",
            "61\n",
            "85\n",
            "8\n"
          ]
        }
      ]
    },
    {
      "cell_type": "markdown",
      "source": [
        "* max(배열), 배열.index\n",
        "* 참고 https://ooyoung.tistory.com/55"
      ],
      "metadata": {
        "id": "D9dujMawnmu-"
      }
    },
    {
      "cell_type": "markdown",
      "source": [
        "## 5"
      ],
      "metadata": {
        "id": "tATQjS7NoCJB"
      }
    },
    {
      "cell_type": "code",
      "source": [
        "N = []\n",
        "for i in range(28):\n",
        "  n = int(input())\n",
        "  N.append(n)\n",
        "\n",
        "N.sort()\n",
        "check = range(1,31)\n",
        "for i in check:\n",
        "  if i not in N:\n",
        "    print(i)"
      ],
      "metadata": {
        "colab": {
          "base_uri": "https://localhost:8080/"
        },
        "id": "gC_bFECaoDYh",
        "outputId": "1a91c9d3-e6cf-42eb-8d99-1b13585a39e2"
      },
      "execution_count": 21,
      "outputs": [
        {
          "output_type": "stream",
          "name": "stdout",
          "text": [
            "3\n",
            "1\n",
            "4\n",
            "5\n",
            "7\n",
            "9\n",
            "6\n",
            "10\n",
            "11\n",
            "12\n",
            "13\n",
            "14\n",
            "15\n",
            "16\n",
            "17\n",
            "18\n",
            "19\n",
            "20\n",
            "21\n",
            "22\n",
            "23\n",
            "24\n",
            "25\n",
            "26\n",
            "27\n",
            "28\n",
            "29\n",
            "30\n",
            "2\n",
            "8\n"
          ]
        }
      ]
    },
    {
      "cell_type": "markdown",
      "source": [
        "* 리스트에 특정 값이 있는지/없는지 확인 : if item in/not in list"
      ],
      "metadata": {
        "id": "Se8cyI5RtoYu"
      }
    },
    {
      "cell_type": "markdown",
      "source": [
        "## 6"
      ],
      "metadata": {
        "id": "XJN47-J5tuCA"
      }
    },
    {
      "cell_type": "code",
      "source": [
        "N = []\n",
        "for i in range(10):\n",
        "  n = int(input())\n",
        "  N.append(n%42)\n",
        "\n",
        "print(len(set(N)))"
      ],
      "metadata": {
        "colab": {
          "base_uri": "https://localhost:8080/"
        },
        "id": "LomNZPvxtu3P",
        "outputId": "4b0d0894-bf9b-4185-e68a-1bf461512a66"
      },
      "execution_count": 28,
      "outputs": [
        {
          "name": "stdout",
          "output_type": "stream",
          "text": [
            "42\n",
            "84\n",
            "252\n",
            "420\n",
            "840\n",
            "126\n",
            "42\n",
            "84\n",
            "420\n",
            "126\n"
          ]
        },
        {
          "output_type": "execute_result",
          "data": {
            "text/plain": [
              "1"
            ]
          },
          "metadata": {},
          "execution_count": 28
        }
      ]
    },
    {
      "cell_type": "markdown",
      "source": [
        "* 리스트의 각 원소마다 반복문 적용할 필요 없이 바로 N에 n%42 값을 넣어주면 됨\n",
        "* set : unique한 원소만 저장(리스트에는 unique 연산이 없음)\n",
        "* 참고 https://pacific-ocean.tistory.com/35"
      ],
      "metadata": {
        "id": "8Ws3KIUVynC1"
      }
    },
    {
      "cell_type": "markdown",
      "source": [
        "## 7"
      ],
      "metadata": {
        "id": "jwOFcbady5Xa"
      }
    },
    {
      "cell_type": "code",
      "source": [
        "N = int(input())\n",
        "S = list(map(int,input().split()))\n",
        "\n",
        "flist = []\n",
        "for i in range(N):\n",
        "  flist.append(S[i]/max(S)*100)\n",
        "print(sum(flist)/len(flist))"
      ],
      "metadata": {
        "colab": {
          "base_uri": "https://localhost:8080/"
        },
        "id": "ma4_XOFjy6GC",
        "outputId": "d131c6a1-f14b-4dd8-fd9d-f881a30787fb"
      },
      "execution_count": 32,
      "outputs": [
        {
          "output_type": "stream",
          "name": "stdout",
          "text": [
            "4\n",
            "1 100 100 100\n",
            "75.25\n"
          ]
        }
      ]
    },
    {
      "cell_type": "markdown",
      "source": [
        "## **8**"
      ],
      "metadata": {
        "id": "vnWKoy6l0FKq"
      }
    },
    {
      "cell_type": "code",
      "source": [
        "T = int(input())\n",
        "\n",
        "for i in range(T):\n",
        "  ox_list = list(input())\n",
        "  score = 0\n",
        "  sum = 0\n",
        "  for ox in ox_list:\n",
        "    if ox=='O':\n",
        "      score+=1\n",
        "      sum+=score\n",
        "    else:\n",
        "      score=0\n",
        "  print(sum)"
      ],
      "metadata": {
        "colab": {
          "base_uri": "https://localhost:8080/"
        },
        "id": "LAkqWRQv3jSQ",
        "outputId": "5762b322-7ae7-44fe-ca0b-d1064d254a46"
      },
      "execution_count": 60,
      "outputs": [
        {
          "output_type": "stream",
          "name": "stdout",
          "text": [
            "5\n",
            "OOXXOXXOOO\n",
            "10\n",
            "OOXXOOXXOO\n",
            "9\n",
            "OXOXOXOXOXOXOX\n",
            "7\n",
            "OOOOOOOOOO\n",
            "55\n",
            "OOOOXOOOOXOOOOX\n",
            "30\n"
          ]
        }
      ]
    },
    {
      "cell_type": "markdown",
      "source": [
        "* 참고 https://ooyoung.tistory.com/61"
      ],
      "metadata": {
        "id": "jJ-pgA_XEFSy"
      }
    },
    {
      "cell_type": "markdown",
      "source": [
        "## **9**"
      ],
      "metadata": {
        "id": "fReom02J1cbr"
      }
    },
    {
      "cell_type": "code",
      "source": [
        "C = int(input())\n",
        "N = []\n",
        "\n",
        "for i in range(C):\n",
        "  n = list(map(int,input().split()))\n",
        "  for j in range(1,len(n)):\n",
        "    if (sum(n)-n[0])/n[0] < n[j]:\n",
        "      N.append(n[j])\n",
        "  print(f'{(len(N)/(len(n)-1))*100:.3f}%')\n",
        "  N.clear()"
      ],
      "metadata": {
        "colab": {
          "base_uri": "https://localhost:8080/"
        },
        "id": "D9MKNX8V1dN1",
        "outputId": "5bda2a64-71b2-4d55-d007-7e7ba6e80f7d"
      },
      "execution_count": 45,
      "outputs": [
        {
          "output_type": "stream",
          "name": "stdout",
          "text": [
            "5\n",
            "5 50 50 70 80 100\n",
            "40.000%\n",
            "7 100 95 90 80 70 60 50\n",
            "57.143%\n",
            "3 70 90 80\n",
            "33.333%\n",
            "3 70 90 81\n",
            "66.667%\n",
            "9 100 99 98 97 96 95 94 93 91\n",
            "55.556%\n"
          ]
        }
      ]
    }
  ]
}