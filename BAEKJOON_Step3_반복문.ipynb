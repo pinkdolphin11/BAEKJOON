{
  "nbformat": 4,
  "nbformat_minor": 0,
  "metadata": {
    "colab": {
      "provenance": [],
      "authorship_tag": "ABX9TyOOs2FMtkpPgpDqeqpd9sOi",
      "include_colab_link": true
    },
    "kernelspec": {
      "name": "python3",
      "display_name": "Python 3"
    },
    "language_info": {
      "name": "python"
    }
  },
  "cells": [
    {
      "cell_type": "markdown",
      "metadata": {
        "id": "view-in-github",
        "colab_type": "text"
      },
      "source": [
        "<a href=\"https://colab.research.google.com/github/pinkdolphin11/BAEKJOON/blob/main/BAEKJOON_Step3_%EB%B0%98%EB%B3%B5%EB%AC%B8.ipynb\" target=\"_parent\"><img src=\"https://colab.research.google.com/assets/colab-badge.svg\" alt=\"Open In Colab\"/></a>"
      ]
    },
    {
      "cell_type": "markdown",
      "source": [
        "## 1"
      ],
      "metadata": {
        "id": "RyicnjewKou1"
      }
    },
    {
      "cell_type": "code",
      "execution_count": null,
      "metadata": {
        "colab": {
          "base_uri": "https://localhost:8080/"
        },
        "id": "A6AxwOHcKj8G",
        "outputId": "107825b9-8639-4ccb-8ee0-d384062e1cf5"
      },
      "outputs": [
        {
          "output_type": "stream",
          "name": "stdout",
          "text": [
            "2\n",
            "2 * 1 = 2\n",
            "2 * 2 = 4\n",
            "2 * 3 = 6\n",
            "2 * 4 = 8\n",
            "2 * 5 = 10\n",
            "2 * 6 = 12\n",
            "2 * 7 = 14\n",
            "2 * 8 = 16\n",
            "2 * 9 = 18\n"
          ]
        }
      ],
      "source": [
        "N = int(input())\n",
        "\n",
        "for i in range(1,10):\n",
        "  print(N, '*', i, '=', N*i)"
      ]
    },
    {
      "cell_type": "markdown",
      "source": [
        "## 2"
      ],
      "metadata": {
        "id": "6DlAkI6LL0Of"
      }
    },
    {
      "cell_type": "code",
      "source": [
        "T = int(input())\n",
        "\n",
        "for i in range(T):\n",
        "  A,B = map(int,input().split())\n",
        "  print(A+B)"
      ],
      "metadata": {
        "colab": {
          "base_uri": "https://localhost:8080/"
        },
        "id": "vCpD4g4TL1RT",
        "outputId": "3681687e-3c51-45fb-f811-b6ec1cb18ff4"
      },
      "execution_count": null,
      "outputs": [
        {
          "output_type": "stream",
          "name": "stdout",
          "text": [
            "5\n",
            "1 1\n",
            "2\n",
            "2 3\n",
            "5\n",
            "3 4\n",
            "7\n",
            "9 8\n",
            "17\n",
            "5 2\n",
            "7\n"
          ]
        }
      ]
    },
    {
      "cell_type": "markdown",
      "source": [
        "## 3"
      ],
      "metadata": {
        "id": "LWBwSMsUMpUS"
      }
    },
    {
      "cell_type": "code",
      "source": [
        "n = int(input())\n",
        "\n",
        "i = 0\n",
        "sum = 0\n",
        "\n",
        "while i<n:\n",
        "  i += 1\n",
        "  sum += i\n",
        "print(sum)"
      ],
      "metadata": {
        "colab": {
          "base_uri": "https://localhost:8080/"
        },
        "id": "0w8s8zx1MqG1",
        "outputId": "03266c2c-9762-427f-fbb6-f19cc8af44af"
      },
      "execution_count": null,
      "outputs": [
        {
          "output_type": "stream",
          "name": "stdout",
          "text": [
            "4\n",
            "10\n"
          ]
        }
      ]
    },
    {
      "cell_type": "markdown",
      "source": [
        "## 4"
      ],
      "metadata": {
        "id": "zXhLQW9MNdC9"
      }
    },
    {
      "cell_type": "code",
      "source": [
        "X = int(input())\n",
        "N = int(input())\n",
        "\n",
        "sum = 0\n",
        "\n",
        "for i in range(N):\n",
        "  a,b = map(int,input().split())\n",
        "  sum += a*b\n",
        "\n",
        "if sum == X:\n",
        "  print('Yes')\n",
        "else:\n",
        "  print('No')"
      ],
      "metadata": {
        "colab": {
          "base_uri": "https://localhost:8080/"
        },
        "id": "NnK-o1t0Ndzl",
        "outputId": "1a544399-c5e2-440e-ca79-45c5739c17bc"
      },
      "execution_count": null,
      "outputs": [
        {
          "output_type": "stream",
          "name": "stdout",
          "text": [
            "260000\n",
            "4\n",
            "20000 5\n",
            "30000 2\n",
            "10000 6\n",
            "5000 8\n",
            "Yes\n"
          ]
        }
      ]
    },
    {
      "cell_type": "markdown",
      "source": [
        "## 5"
      ],
      "metadata": {
        "id": "HHKhnt_nOqd9"
      }
    },
    {
      "cell_type": "code",
      "source": [
        "import sys\n",
        "\n",
        "T = int(sys.stdin.readline())\n",
        "\n",
        "for i in range(T):\n",
        "  A,B = map(int,sys.stdin.readline().split())\n",
        "  print(A+B)"
      ],
      "metadata": {
        "id": "akRh_qbyR5X1"
      },
      "execution_count": null,
      "outputs": []
    },
    {
      "cell_type": "markdown",
      "source": [
        "* sys.stdin.readline() 원래 코랩에서 실행안됨"
      ],
      "metadata": {
        "id": "8FNWiagoR50l"
      }
    },
    {
      "cell_type": "markdown",
      "source": [
        "## 6"
      ],
      "metadata": {
        "id": "4JcjPGp3R9eL"
      }
    },
    {
      "cell_type": "code",
      "source": [
        "T = int(input())\n",
        "\n",
        "for i in range(T):\n",
        "  A,B = map(int,input().split())\n",
        "  print(f'Case #{i+1}: {A+B}')"
      ],
      "metadata": {
        "colab": {
          "base_uri": "https://localhost:8080/"
        },
        "id": "ZMkgkaRRR-hz",
        "outputId": "52d08b51-fbf7-43b2-dc41-602dd1d4bc9a"
      },
      "execution_count": null,
      "outputs": [
        {
          "output_type": "stream",
          "name": "stdout",
          "text": [
            "5\n",
            "1 1\n",
            "Case #1: 2\n",
            "2 3\n",
            "Case #2: 5\n",
            "3 4\n",
            "Case #3: 7\n",
            "9 8\n",
            "Case #4: 17\n",
            "5 2\n",
            "Case #5: 7\n"
          ]
        }
      ]
    },
    {
      "cell_type": "markdown",
      "source": [
        "* f-string 사용(참고 : https://ooyoung.tistory.com/37)"
      ],
      "metadata": {
        "id": "AsGuP2jCUe_G"
      }
    },
    {
      "cell_type": "markdown",
      "source": [
        "## 7"
      ],
      "metadata": {
        "id": "40kwaPhGUbld"
      }
    },
    {
      "cell_type": "code",
      "source": [
        "T = int(input())\n",
        "\n",
        "for i in range(T):\n",
        "  A,B = map(int,input().split())\n",
        "  print(f'Case #{i+1}: {A} + {B} = {A+B}')"
      ],
      "metadata": {
        "colab": {
          "base_uri": "https://localhost:8080/"
        },
        "id": "E5A7280XUc6D",
        "outputId": "eecc88c2-1d38-4944-e1c8-46445bb998ec"
      },
      "execution_count": null,
      "outputs": [
        {
          "output_type": "stream",
          "name": "stdout",
          "text": [
            "5\n",
            "1 1\n",
            "Case #1: 1 + 1 = 2\n",
            "2 3\n",
            "Case #2: 2 + 3 = 5\n",
            "3 4\n",
            "Case #3: 3 + 4 = 7\n",
            "9 8\n",
            "Case #4: 9 + 8 = 17\n",
            "5 2\n",
            "Case #5: 5 + 2 = 7\n"
          ]
        }
      ]
    },
    {
      "cell_type": "markdown",
      "source": [
        "## 8"
      ],
      "metadata": {
        "id": "qjpgH8QiU-LB"
      }
    },
    {
      "cell_type": "code",
      "source": [
        "N = int(input())\n",
        "\n",
        "for i in range(N):\n",
        "  print('*'*(i+1))"
      ],
      "metadata": {
        "colab": {
          "base_uri": "https://localhost:8080/"
        },
        "id": "Te5lA9jvU_ez",
        "outputId": "730be8fb-5f05-4bb1-8706-f6a693afb042"
      },
      "execution_count": null,
      "outputs": [
        {
          "output_type": "stream",
          "name": "stdout",
          "text": [
            "5\n",
            "*\n",
            "**\n",
            "***\n",
            "****\n",
            "*****\n"
          ]
        }
      ]
    },
    {
      "cell_type": "markdown",
      "source": [
        "## 9"
      ],
      "metadata": {
        "id": "uDtaL-nGWjES"
      }
    },
    {
      "cell_type": "code",
      "source": [
        "N = int(input())\n",
        "\n",
        "for i in range(1,N+1):\n",
        "  print(' '*(N-i)+'*'*i)"
      ],
      "metadata": {
        "colab": {
          "base_uri": "https://localhost:8080/"
        },
        "id": "fbqg3HhKWj4B",
        "outputId": "249f5d05-fefe-4f6e-fe9b-a6445b93a90e"
      },
      "execution_count": null,
      "outputs": [
        {
          "output_type": "stream",
          "name": "stdout",
          "text": [
            "5\n",
            "    *\n",
            "   **\n",
            "  ***\n",
            " ****\n",
            "*****\n"
          ]
        }
      ]
    },
    {
      "cell_type": "markdown",
      "source": [
        "## 10"
      ],
      "metadata": {
        "id": "BE7RbUhVPx6x"
      }
    },
    {
      "cell_type": "code",
      "source": [
        "while True:\n",
        "  A,B = map(int,input().split())\n",
        "  if A!=0 or B!=0:\n",
        "    print(A+B)\n",
        "  else:\n",
        "    break"
      ],
      "metadata": {
        "colab": {
          "base_uri": "https://localhost:8080/"
        },
        "id": "a2Q1thbFPzV5",
        "outputId": "2d796e08-5808-441a-a71c-37e4f2d073c6"
      },
      "execution_count": 4,
      "outputs": [
        {
          "name": "stdout",
          "output_type": "stream",
          "text": [
            "1 1\n",
            "2\n",
            "2 3\n",
            "5\n",
            "3 4\n",
            "7\n",
            "9 8\n",
            "17\n",
            "5 2\n",
            "7\n",
            "0 0\n"
          ]
        }
      ]
    },
    {
      "cell_type": "markdown",
      "source": [
        "## 11"
      ],
      "metadata": {
        "id": "4imivVm0Ro53"
      }
    },
    {
      "cell_type": "code",
      "source": [
        "while True:\n",
        "  try:\n",
        "    A,B = map(int,input().split())\n",
        "    print(A+B)\n",
        "  except:\n",
        "    break"
      ],
      "metadata": {
        "colab": {
          "base_uri": "https://localhost:8080/"
        },
        "id": "hXnCJcKtRpvz",
        "outputId": "7e85dc76-71d4-4eba-f3af-40bd4c427452"
      },
      "execution_count": 6,
      "outputs": [
        {
          "name": "stdout",
          "output_type": "stream",
          "text": [
            "1 1\n",
            "2\n",
            "2 3\n",
            "5\n",
            "3 4\n",
            "7\n",
            "9 8\n",
            "17\n",
            "5 2\n",
            "7\n",
            "a a\n"
          ]
        }
      ]
    },
    {
      "cell_type": "markdown",
      "source": [
        "* try : A,B에 int형이 입력되면 A+B 출력\n",
        "* except : try에 대해 에러가 발생한 경우 break\n",
        "* 참고 https://velog.io/@jsw8050/%EB%B0%B1%EC%A4%80-while%EB%AC%B8-10951%EB%B2%88-AB-4-Python"
      ],
      "metadata": {
        "id": "qnitUCdsTh5n"
      }
    },
    {
      "cell_type": "markdown",
      "source": [
        "## 12"
      ],
      "metadata": {
        "id": "pAwrW6PHTuxq"
      }
    },
    {
      "cell_type": "code",
      "source": [
        "N = int(input())\n",
        "\n",
        "a = N//10\n",
        "b = N%10\n",
        "\n",
        "numlist = []\n",
        "\n",
        "while True:\n",
        "  new = b*10+((a+b)%10)\n",
        "  numlist.append(new)\n",
        "  a = new//10\n",
        "  b = new%10\n",
        "  if new == N:\n",
        "    print(len(numlist))\n",
        "    break"
      ],
      "metadata": {
        "colab": {
          "base_uri": "https://localhost:8080/"
        },
        "id": "j0AH5MYxTvoa",
        "outputId": "4ff7f6de-0f1c-485c-86c9-6241115bf161"
      },
      "execution_count": 31,
      "outputs": [
        {
          "output_type": "stream",
          "name": "stdout",
          "text": [
            "71\n",
            "[18, 89, 97, 76, 63, 39, 92, 21, 13, 34, 47, 71]\n",
            "12\n"
          ]
        }
      ]
    }
  ]
}