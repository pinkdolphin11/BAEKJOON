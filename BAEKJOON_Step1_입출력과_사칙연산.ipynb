{
  "nbformat": 4,
  "nbformat_minor": 0,
  "metadata": {
    "colab": {
      "provenance": []
    },
    "kernelspec": {
      "name": "python3",
      "display_name": "Python 3"
    },
    "language_info": {
      "name": "python"
    }
  },
  "cells": [
    {
      "cell_type": "markdown",
      "source": [
        "## 1"
      ],
      "metadata": {
        "id": "FNIpbBAM8PyB"
      }
    },
    {
      "cell_type": "code",
      "execution_count": 2,
      "metadata": {
        "colab": {
          "base_uri": "https://localhost:8080/"
        },
        "id": "Z81jDy1Z79QL",
        "outputId": "645bcdc6-c221-473d-f68b-a842cec9e67f"
      },
      "outputs": [
        {
          "output_type": "stream",
          "name": "stdout",
          "text": [
            "Hello World!\n"
          ]
        }
      ],
      "source": [
        "print('Hello World!')"
      ]
    },
    {
      "cell_type": "markdown",
      "source": [
        "## 2"
      ],
      "metadata": {
        "id": "RgY8cam38VmS"
      }
    },
    {
      "cell_type": "code",
      "source": [
        "A,B = map(int,input().split())\n",
        "print(A+B)"
      ],
      "metadata": {
        "colab": {
          "base_uri": "https://localhost:8080/"
        },
        "id": "I8inbzNF8ZsG",
        "outputId": "852da8c9-f5ed-4345-e12d-c9d514afa180"
      },
      "execution_count": 6,
      "outputs": [
        {
          "output_type": "stream",
          "name": "stdout",
          "text": [
            "1 2\n",
            "3\n"
          ]
        }
      ]
    },
    {
      "cell_type": "markdown",
      "source": [
        "* map(적용할 함수, 반복 가능한 자료형)\n",
        "\n",
        "* input() : 입력된 값을 문자열로 인식. 숫자로 인식하기 위해서는 int(input())\n",
        "\n",
        "* split() : 한 문자열을 나누어 리스트로 구분(default : 공백 기준)\n",
        "\n",
        "* 참고 1 https://ccamppak.tistory.com/38\n",
        "  \n",
        "* 참고 2(응용) https://tekiter.tistory.com/3"
      ],
      "metadata": {
        "id": "SzhPze_F8ZZ1"
      }
    },
    {
      "cell_type": "markdown",
      "source": [
        "## 3"
      ],
      "metadata": {
        "id": "_tmCiJ91Ap-f"
      }
    },
    {
      "cell_type": "code",
      "source": [
        "A,B = map(int,input().split())\n",
        "print(A-B)"
      ],
      "metadata": {
        "colab": {
          "base_uri": "https://localhost:8080/"
        },
        "id": "5gA46mT9AuS9",
        "outputId": "511190c0-2ed3-4b5d-ca6c-892cf665b918"
      },
      "execution_count": 7,
      "outputs": [
        {
          "output_type": "stream",
          "name": "stdout",
          "text": [
            "3 2\n",
            "1\n"
          ]
        }
      ]
    },
    {
      "cell_type": "markdown",
      "source": [
        "## 4"
      ],
      "metadata": {
        "id": "C_n40B25CkcL"
      }
    },
    {
      "cell_type": "code",
      "source": [
        "A,B = map(int,input().split())\n",
        "print(A*B)"
      ],
      "metadata": {
        "colab": {
          "base_uri": "https://localhost:8080/"
        },
        "id": "gWGuVQ0fClev",
        "outputId": "14034ed7-4b0e-4c58-f91b-991cca494ea9"
      },
      "execution_count": 8,
      "outputs": [
        {
          "output_type": "stream",
          "name": "stdout",
          "text": [
            "1 2\n",
            "2\n"
          ]
        }
      ]
    },
    {
      "cell_type": "markdown",
      "source": [
        "## 5"
      ],
      "metadata": {
        "id": "qb-c_oWKCvIK"
      }
    },
    {
      "cell_type": "code",
      "source": [
        "A,B = map(int,input().split())\n",
        "print(A/B)"
      ],
      "metadata": {
        "colab": {
          "base_uri": "https://localhost:8080/"
        },
        "id": "TM3P9AmgCv4M",
        "outputId": "760075b7-4cfe-4540-d333-a217395b164f"
      },
      "execution_count": 9,
      "outputs": [
        {
          "output_type": "stream",
          "name": "stdout",
          "text": [
            "1 3\n",
            "0.3333333333333333\n"
          ]
        }
      ]
    },
    {
      "cell_type": "markdown",
      "source": [
        "## 6"
      ],
      "metadata": {
        "id": "COKjv98GDD24"
      }
    },
    {
      "cell_type": "code",
      "source": [
        "A,B = map(int,input().split())\n",
        "print(A+B)\n",
        "print(A-B)\n",
        "print(A*B)\n",
        "print(A//B)\n",
        "print(A%B)"
      ],
      "metadata": {
        "colab": {
          "base_uri": "https://localhost:8080/"
        },
        "id": "rmi2IL1pDDge",
        "outputId": "31f6954b-09fe-4ab6-bca6-c88888465e45"
      },
      "execution_count": 11,
      "outputs": [
        {
          "output_type": "stream",
          "name": "stdout",
          "text": [
            "7 3\n",
            "10\n",
            "4\n",
            "21\n",
            "2\n",
            "1\n"
          ]
        }
      ]
    },
    {
      "cell_type": "markdown",
      "source": [
        "## 7"
      ],
      "metadata": {
        "id": "yLjxaBQuD9a5"
      }
    },
    {
      "cell_type": "code",
      "source": [
        "id = input()\n",
        "print(id+'??!')"
      ],
      "metadata": {
        "colab": {
          "base_uri": "https://localhost:8080/"
        },
        "id": "t9k6qoesD_Kw",
        "outputId": "539a8925-dc31-4c2e-8cb7-5863fec981ac"
      },
      "execution_count": 12,
      "outputs": [
        {
          "output_type": "stream",
          "name": "stdout",
          "text": [
            "joonas\n",
            "joonas??!\n"
          ]
        }
      ]
    },
    {
      "cell_type": "markdown",
      "source": [
        "## 8"
      ],
      "metadata": {
        "id": "N1F8Mey5EdMB"
      }
    },
    {
      "cell_type": "code",
      "source": [
        "2541-1998"
      ],
      "metadata": {
        "colab": {
          "base_uri": "https://localhost:8080/"
        },
        "id": "h_KRsWdeE70Y",
        "outputId": "c9a6cb19-53bf-4350-ef8a-de44c5ebdfc0"
      },
      "execution_count": 13,
      "outputs": [
        {
          "output_type": "execute_result",
          "data": {
            "text/plain": [
              "543"
            ]
          },
          "metadata": {},
          "execution_count": 13
        }
      ]
    },
    {
      "cell_type": "code",
      "source": [
        "year = int(input())\n",
        "print(year-543)"
      ],
      "metadata": {
        "colab": {
          "base_uri": "https://localhost:8080/"
        },
        "id": "Hv0Ji55_EecU",
        "outputId": "351826c1-584c-4aa1-bd15-61b4ffde3acb"
      },
      "execution_count": 15,
      "outputs": [
        {
          "output_type": "stream",
          "name": "stdout",
          "text": [
            "2541\n",
            "1998\n"
          ]
        }
      ]
    },
    {
      "cell_type": "markdown",
      "source": [
        "## 9"
      ],
      "metadata": {
        "id": "tE8gDoRmFJUV"
      }
    },
    {
      "cell_type": "code",
      "source": [
        "King, Queen, Rook, Bishop, Knight, Pawn = map(int,input().split())\n",
        "print(1-King,1-Queen,2-Rook,2-Bishop,2-Knight,8-Pawn)"
      ],
      "metadata": {
        "colab": {
          "base_uri": "https://localhost:8080/"
        },
        "id": "R0AUUSUcFKkR",
        "outputId": "1e663a4e-fcdf-42ef-c1a0-5c5c5fb77345"
      },
      "execution_count": 20,
      "outputs": [
        {
          "output_type": "stream",
          "name": "stdout",
          "text": [
            "0 1 2 2 2 7\n",
            "1 0 0 0 0 1\n"
          ]
        }
      ]
    },
    {
      "cell_type": "markdown",
      "source": [
        "## 10"
      ],
      "metadata": {
        "id": "LP0obne-Gm9g"
      }
    },
    {
      "cell_type": "code",
      "source": [
        "A,B,C = map(int,input().split())\n",
        "print((A+B)%C,((A%C)+(B%C))%C,(A*B)%C,((A%C)*(B%C))%C)"
      ],
      "metadata": {
        "colab": {
          "base_uri": "https://localhost:8080/"
        },
        "id": "kHSmKe-5Gn2I",
        "outputId": "fcdc5871-4b7d-43bc-9d0e-5615c0e1238c"
      },
      "execution_count": 21,
      "outputs": [
        {
          "output_type": "stream",
          "name": "stdout",
          "text": [
            "5 8 4\n",
            "1 1 0 0\n"
          ]
        }
      ]
    },
    {
      "cell_type": "markdown",
      "source": [
        "## 11"
      ],
      "metadata": {
        "id": "9CGjOINFHQkq"
      }
    },
    {
      "cell_type": "code",
      "source": [
        "A = int(input())\n",
        "B = input()\n",
        "print(A*int(B[2]),A*int(B[1]),A*int(B[0]),A*int(B[2])+A*int(B[1])*10+A*int(B[0])*100)"
      ],
      "metadata": {
        "colab": {
          "base_uri": "https://localhost:8080/"
        },
        "id": "HAUvuj-JNDBg",
        "outputId": "3a0ecd02-2742-4d7a-ae11-22bd9aa7a37a"
      },
      "execution_count": 41,
      "outputs": [
        {
          "output_type": "stream",
          "name": "stdout",
          "text": [
            "472\n",
            "385\n",
            "2360 3776 1416 181720\n"
          ]
        }
      ]
    },
    {
      "cell_type": "markdown",
      "source": [
        "## 12"
      ],
      "metadata": {
        "id": "K8mv-KvkN9u6"
      }
    },
    {
      "cell_type": "code",
      "source": [
        "print(\"\\    /\\ \\n )  ( ')\\n(  /  )\\n \\(__)|\")"
      ],
      "metadata": {
        "colab": {
          "base_uri": "https://localhost:8080/"
        },
        "id": "s_jpO806ODyy",
        "outputId": "6b19e2fb-7603-42e7-ca18-461a9a360d4a"
      },
      "execution_count": 43,
      "outputs": [
        {
          "output_type": "stream",
          "name": "stdout",
          "text": [
            "\\    /\\ \n",
            " )  ( ')\n",
            "(  /  )\n",
            " \\(__)|\n"
          ]
        }
      ]
    },
    {
      "cell_type": "markdown",
      "source": [
        "## 13"
      ],
      "metadata": {
        "id": "kT2rM-BZOvw9"
      }
    },
    {
      "cell_type": "code",
      "source": [
        "print('|\\_/|')\n",
        "print('|q p|   /}')\n",
        "print('( 0 )\"\"\"\\\\')\n",
        "print('|\"^\"`    |')\n",
        "print('||_/=\\\\\\__|')"
      ],
      "metadata": {
        "colab": {
          "base_uri": "https://localhost:8080/"
        },
        "id": "punNO6d_Owl4",
        "outputId": "394e7316-3dce-4965-d2cd-822e875b4f64"
      },
      "execution_count": 56,
      "outputs": [
        {
          "output_type": "stream",
          "name": "stdout",
          "text": [
            "|\\_/|\n",
            "|q p|   /}\n",
            "( 0 )\"\"\"\\\n",
            "|\"^\"`    |\n",
            "||_/=\\\\__|\n"
          ]
        }
      ]
    },
    {
      "cell_type": "markdown",
      "source": [
        "* 참고 https://ooyoung.tistory.com/11"
      ],
      "metadata": {
        "id": "u235tewARHJo"
      }
    },
    {
      "cell_type": "markdown",
      "source": [
        "## 14"
      ],
      "metadata": {
        "id": "9xsh9vgVRMMB"
      }
    },
    {
      "cell_type": "code",
      "source": [
        "print('''         ,r'\"7''')\n",
        "print(\"r`-_   ,'  ,/\")\n",
        "print(''' \\. \". L_r' ''')\n",
        "print(\"   `~\\/\")\n",
        "print('      |')\n",
        "print('      |')"
      ],
      "metadata": {
        "colab": {
          "base_uri": "https://localhost:8080/"
        },
        "id": "z8CQkdtxRNDq",
        "outputId": "880b5fd8-f509-4d19-fef7-6e48838e3c51"
      },
      "execution_count": 57,
      "outputs": [
        {
          "output_type": "stream",
          "name": "stdout",
          "text": [
            "         ,r'\"7\n",
            "r`-_   ,'  ,/\n",
            " \\. \". L_r' \n",
            "   `~\\/\n",
            "      |\n",
            "      |\n"
          ]
        }
      ]
    }
  ]
}