{
  "nbformat": 4,
  "nbformat_minor": 0,
  "metadata": {
    "colab": {
      "provenance": [],
      "authorship_tag": "ABX9TyMuh5qHpyjPlwX+o7F2kdMB",
      "include_colab_link": true
    },
    "kernelspec": {
      "name": "python3",
      "display_name": "Python 3"
    },
    "language_info": {
      "name": "python"
    }
  },
  "cells": [
    {
      "cell_type": "markdown",
      "metadata": {
        "id": "view-in-github",
        "colab_type": "text"
      },
      "source": [
        "<a href=\"https://colab.research.google.com/github/pinkdolphin11/BAEKJOON/blob/main/BAEKJOON_Step2_%EC%A1%B0%EA%B1%B4%EB%AC%B8.ipynb\" target=\"_parent\"><img src=\"https://colab.research.google.com/assets/colab-badge.svg\" alt=\"Open In Colab\"/></a>"
      ]
    },
    {
      "cell_type": "markdown",
      "source": [
        "## 1"
      ],
      "metadata": {
        "id": "Fj8_EvpwfTsj"
      }
    },
    {
      "cell_type": "code",
      "execution_count": 2,
      "metadata": {
        "colab": {
          "base_uri": "https://localhost:8080/"
        },
        "id": "2RZUlA_wc6T2",
        "outputId": "c690422b-80db-4e16-8e6a-b9f1d0c6f63d"
      },
      "outputs": [
        {
          "output_type": "stream",
          "name": "stdout",
          "text": [
            "1 2\n",
            "<\n"
          ]
        }
      ],
      "source": [
        "A,B = map(int,input().split())\n",
        "\n",
        "if A>B:\n",
        "  print('>')\n",
        "elif A<B:\n",
        "  print('<')\n",
        "else:\n",
        "  print('==')"
      ]
    },
    {
      "cell_type": "markdown",
      "source": [
        "## 2"
      ],
      "metadata": {
        "id": "Pf24VO4Uf6WF"
      }
    },
    {
      "cell_type": "code",
      "source": [
        "score = int(input())\n",
        "\n",
        "if score>=90 and score<=100:\n",
        "  print('A')\n",
        "elif score>=80:\n",
        "  print('B')\n",
        "elif score>=70:\n",
        "  print('C')\n",
        "elif score>=60:\n",
        "  print('D')\n",
        "else:\n",
        "  print('F')"
      ],
      "metadata": {
        "colab": {
          "base_uri": "https://localhost:8080/"
        },
        "id": "JR_n-rtff7L1",
        "outputId": "d95daf28-c13d-4a0f-8be2-1a7d5248861d"
      },
      "execution_count": 6,
      "outputs": [
        {
          "output_type": "stream",
          "name": "stdout",
          "text": [
            "89\n",
            "B\n"
          ]
        }
      ]
    },
    {
      "cell_type": "markdown",
      "source": [
        "## 3"
      ],
      "metadata": {
        "id": "RHQmNVAlgkO4"
      }
    },
    {
      "cell_type": "code",
      "source": [
        "year = int(input())\n",
        "\n",
        "if (year%4==0 and year%100!=0) or (year%400==0):\n",
        "  print(1)\n",
        "else:\n",
        "  print(0)"
      ],
      "metadata": {
        "colab": {
          "base_uri": "https://localhost:8080/"
        },
        "id": "g_oyeRs5gk-8",
        "outputId": "7a056257-0027-40af-f6c4-2b34876af576"
      },
      "execution_count": 8,
      "outputs": [
        {
          "output_type": "stream",
          "name": "stdout",
          "text": [
            "2000\n",
            "1\n"
          ]
        }
      ]
    },
    {
      "cell_type": "markdown",
      "source": [
        "## 4"
      ],
      "metadata": {
        "id": "bhVFoIa3hKLn"
      }
    },
    {
      "cell_type": "code",
      "source": [
        "x = int(input())\n",
        "y = int(input())\n",
        "\n",
        "if x>0 and y>0:\n",
        "  print(1)\n",
        "elif x<0 and y>0:\n",
        "  print(2)\n",
        "elif x<0 and y<0:\n",
        "  print(3)\n",
        "elif x>0 and y<0:\n",
        "  print(4)"
      ],
      "metadata": {
        "colab": {
          "base_uri": "https://localhost:8080/"
        },
        "id": "0Dp6rXjUhNYp",
        "outputId": "2e778256-9964-478f-a0b0-8254d3a24507"
      },
      "execution_count": 11,
      "outputs": [
        {
          "output_type": "stream",
          "name": "stdout",
          "text": [
            "9\n",
            "-13\n",
            "4\n"
          ]
        }
      ]
    },
    {
      "cell_type": "markdown",
      "source": [
        "## 5"
      ],
      "metadata": {
        "id": "1ZJ745mFhyH5"
      }
    },
    {
      "cell_type": "code",
      "source": [
        "H,M = map(int,input().split())\n",
        "\n",
        "if M>=45:\n",
        "  print(H,M-45)\n",
        "else:\n",
        "  if H!=0:\n",
        "    print(H-1,M-45+60)\n",
        "  else:\n",
        "    print(H+23,M-45+60)"
      ],
      "metadata": {
        "colab": {
          "base_uri": "https://localhost:8080/"
        },
        "id": "GUFG9D2Khy7b",
        "outputId": "6deac48f-c05f-4c1a-d4a9-130c8578b1f8"
      },
      "execution_count": 15,
      "outputs": [
        {
          "output_type": "stream",
          "name": "stdout",
          "text": [
            "23 40\n",
            "22 55\n"
          ]
        }
      ]
    },
    {
      "cell_type": "markdown",
      "source": [
        "## 6"
      ],
      "metadata": {
        "id": "TbQJ1oVFjSS6"
      }
    },
    {
      "cell_type": "code",
      "source": [
        "A,B = map(int,input().split())\n",
        "C = int(input())\n",
        "\n",
        "if B+C<60:\n",
        "  print(A,B+C)\n",
        "else:\n",
        "  if B+((B+C)%60<60):\n",
        "    print(A+((A+((B+C)//60))-24),B+((B+C)%60))\n",
        "  else:\n",
        "    print(A+((A+((B+C)//60))-24)+1,B+((B+C)%60)-60)    "
      ],
      "metadata": {
        "colab": {
          "base_uri": "https://localhost:8080/"
        },
        "id": "QQzeV6NljT4l",
        "outputId": "bc49819a-db4f-4058-aa01-8c004aab1001"
      },
      "execution_count": 18,
      "outputs": [
        {
          "output_type": "stream",
          "name": "stdout",
          "text": [
            "23 48\n",
            "25\n",
            "23 61\n"
          ]
        }
      ]
    },
    {
      "cell_type": "code",
      "source": [
        "A,B = map(int,input().split())\n",
        "C = int(input())\n",
        "\n",
        "if B+C<60:\n",
        "  print(A,B+C)\n",
        "else:\n",
        "  if A+((B+C)//60)<24:\n",
        "    print(A+((B+C)//60),(B+C)%60)\n",
        "  else:\n",
        "    print((((B+C)//60)-24)+A,(B+C)%60)"
      ],
      "metadata": {
        "colab": {
          "base_uri": "https://localhost:8080/"
        },
        "id": "2n6NtJZfmhaj",
        "outputId": "7a2994e3-df78-485c-8bde-7aefbfc426bb"
      },
      "execution_count": 23,
      "outputs": [
        {
          "output_type": "stream",
          "name": "stdout",
          "text": [
            "23 48\n",
            "25\n",
            "0 13\n"
          ]
        }
      ]
    },
    {
      "cell_type": "markdown",
      "source": [
        "## 7"
      ],
      "metadata": {
        "id": "4UbFIMoos1iV"
      }
    },
    {
      "cell_type": "code",
      "source": [
        "A,B,C = map(int,input().split())\n",
        "\n",
        "if A==B and B==C:\n",
        "  print(10000+A*1000)\n",
        "elif A!=B and B!=C and C!=A:\n",
        "  if A>B and A>C:\n",
        "    print(A*100)\n",
        "  elif B>A and B>C:\n",
        "    print(B*100)\n",
        "  elif C>A and C>B:\n",
        "    print(C*100)\n",
        "else:\n",
        "  if A==B or A==C:\n",
        "    print(1000+A*100)\n",
        "  elif B==C:\n",
        "    print(1000+B*100)"
      ],
      "metadata": {
        "colab": {
          "base_uri": "https://localhost:8080/"
        },
        "id": "m56q5tljs2tp",
        "outputId": "e14d0f94-8406-4012-afc8-748999cf61ba"
      },
      "execution_count": 26,
      "outputs": [
        {
          "output_type": "stream",
          "name": "stdout",
          "text": [
            "6 2 5\n",
            "600\n"
          ]
        }
      ]
    }
  ]
}